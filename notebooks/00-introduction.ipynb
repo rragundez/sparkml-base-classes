{
 "cells": [
  {
   "cell_type": "markdown",
   "id": "cc56696f",
   "metadata": {
    "slideshow": {
     "slide_type": "slide"
    }
   },
   "source": [
    "# Easily build custom SparkML Transformers and Estimators\n",
    "\n",
    "![SparkML](sparkml.webp)\n",
    "\n",
    "Rodrigo Agundez - 06 April 2023"
   ]
  },
  {
   "cell_type": "markdown",
   "id": "83aef01b",
   "metadata": {
    "slideshow": {
     "slide_type": "slide"
    }
   },
   "source": [
    "# Agenda\n",
    "\n",
    "- [Data transformations in Machine Learning](01-data_transformations_in_ml.ipynb)\n",
    "- [SciKit-Learn Pipelines](02-scikit_learn_pipelines.ipynb)\n",
    "- [SparkML Introduction](03-sparkml_introduction.ipynb)\n",
    "    - Transformers\n",
    "    - Estimators\n",
    "    - Pipelines\n",
    "- [Custom SparkML](04-custom_sparkml.ipynb)\n",
    "    - The hard way\n",
    "    - The easy way"
   ]
  },
  {
   "cell_type": "markdown",
   "id": "c9b0b916",
   "metadata": {
    "slideshow": {
     "slide_type": "slide"
    }
   },
   "source": [
    "# [Data Transformations in Machine Learning](01-data_transformations_in_ml.ipynb)"
   ]
  }
 ],
 "metadata": {
  "celltoolbar": "Slideshow",
  "kernelspec": {
   "display_name": "Python 3 (ipykernel)",
   "language": "python",
   "name": "python3"
  },
  "language_info": {
   "codemirror_mode": {
    "name": "ipython",
    "version": 3
   },
   "file_extension": ".py",
   "mimetype": "text/x-python",
   "name": "python",
   "nbconvert_exporter": "python",
   "pygments_lexer": "ipython3",
   "version": "3.9.11"
  }
 },
 "nbformat": 4,
 "nbformat_minor": 5
}
