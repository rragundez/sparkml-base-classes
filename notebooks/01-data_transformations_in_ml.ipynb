{
 "cells": [
  {
   "cell_type": "code",
   "execution_count": 1,
   "id": "036819c6",
   "metadata": {
    "slideshow": {
     "slide_type": "skip"
    }
   },
   "outputs": [
    {
     "data": {
      "text/html": [
       "<div>\n",
       "<style scoped>\n",
       "    .dataframe tbody tr th:only-of-type {\n",
       "        vertical-align: middle;\n",
       "    }\n",
       "\n",
       "    .dataframe tbody tr th {\n",
       "        vertical-align: top;\n",
       "    }\n",
       "\n",
       "    .dataframe thead th {\n",
       "        text-align: right;\n",
       "    }\n",
       "</style>\n",
       "<table border=\"1\" class=\"dataframe\">\n",
       "  <thead>\n",
       "    <tr style=\"text-align: right;\">\n",
       "      <th></th>\n",
       "      <th>name</th>\n",
       "      <th>sport</th>\n",
       "      <th>wins</th>\n",
       "      <th>date_of_birth</th>\n",
       "    </tr>\n",
       "  </thead>\n",
       "  <tbody>\n",
       "    <tr>\n",
       "      <th>0</th>\n",
       "      <td>George</td>\n",
       "      <td>Tennis</td>\n",
       "      <td>20</td>\n",
       "      <td>1989-02-01</td>\n",
       "    </tr>\n",
       "    <tr>\n",
       "      <th>1</th>\n",
       "      <td>Veronica</td>\n",
       "      <td>None</td>\n",
       "      <td>76</td>\n",
       "      <td>1999-10-11</td>\n",
       "    </tr>\n",
       "    <tr>\n",
       "      <th>2</th>\n",
       "      <td>Marc</td>\n",
       "      <td>Golf</td>\n",
       "      <td>12</td>\n",
       "      <td>2011-07-26</td>\n",
       "    </tr>\n",
       "    <tr>\n",
       "      <th>3</th>\n",
       "      <td>Sally</td>\n",
       "      <td>Golf</td>\n",
       "      <td>33</td>\n",
       "      <td>2004-04-17</td>\n",
       "    </tr>\n",
       "  </tbody>\n",
       "</table>\n",
       "</div>"
      ],
      "text/plain": [
       "       name   sport  wins date_of_birth\n",
       "0    George  Tennis    20    1989-02-01\n",
       "1  Veronica    None    76    1999-10-11\n",
       "2      Marc    Golf    12    2011-07-26\n",
       "3     Sally    Golf    33    2004-04-17"
      ]
     },
     "execution_count": 1,
     "metadata": {},
     "output_type": "execute_result"
    }
   ],
   "source": [
    "import pandas as pd \n",
    "from datetime import datetime\n",
    "from datetime import date\n",
    "import json\n",
    "import pickle\n",
    "\n",
    "def calculate_age(born):\n",
    "    today = date.today()\n",
    "    return today.year - born.year - ((today.month, today.day) < (born.month, born.day))\n",
    "\n",
    "A_athletes = pd.DataFrame({\n",
    "    \"name\": [\"George\", \"Veronica\", \"Marc\", \"Sally\"],\n",
    "    \"sport\": [\"Tennis\", None, \"Golf\", \"Golf\"],\n",
    "    \"wins\": [20, 76, 12, 33],\n",
    "    \"date_of_birth\": [\"1989-02-01\", \"1999-10-11\", \"2011-07-26\", \"2004-04-17\"]\n",
    "})\n",
    "\n",
    "B_athletes = pd.DataFrame({\n",
    "    \"name\": [\"Salma\", \"Viktor\", \"Raul\", \"Nadia\"],\n",
    "    \"sport\": [\"Golf\", \"Tennis\", None, \"Skate\"],\n",
    "    \"wins\": [2, 33, 25, 71],\n",
    "    \"date_of_birth\": [\"1988-06-01\", \"1989-10-11\", \"2010-07-26\", \"2001-04-17\"]\n",
    "})\n",
    "A_athletes"
   ]
  },
  {
   "cell_type": "markdown",
   "id": "cc56696f",
   "metadata": {
    "slideshow": {
     "slide_type": "slide"
    }
   },
   "source": [
    "# Data Transformations in Machine Learning\n",
    "\n",
    "![SparkML](sparkml.webp)\n",
    "\n",
    "Rodrigo Agundez - 06 April 2023"
   ]
  },
  {
   "cell_type": "markdown",
   "id": "23b08f8c",
   "metadata": {
    "slideshow": {
     "slide_type": "slide"
    }
   },
   "source": [
    "## The need for a special paradigm for data transformations in Machine Learning comes from:\n",
    "\n",
    "1. The highly-demanding flexibility for functional transformations, non-functional transformations and their interoperability.\n",
    "1. The need for non-functional transformations need to keep state:\n",
    "\n",
    "    - Across time \n",
    "    \n",
    "        An aggregated quantity used for normalization that updates every month.\n",
    "        \n",
    "    - Across space \n",
    "    \n",
    "        A collection of categories that is computed in a batch job and later used at inference in a backend service."
   ]
  },
  {
   "cell_type": "markdown",
   "id": "ee817d08",
   "metadata": {
    "slideshow": {
     "slide_type": "slide"
    }
   },
   "source": [
    "#  1. Highly-demanding flexibility for transformations\n",
    "\n",
    "## All data transformations are of 2-types:\n",
    "\n",
    "- ### Functional\n",
    "\n",
    "    All information needed is contained within the function operations and data to be transformed.\n",
    "    \n",
    "- ### Non-functional\n",
    "\n",
    "    It needs information from outside the function operations and the data to be transformed."
   ]
  },
  {
   "cell_type": "markdown",
   "id": "4866c0d6",
   "metadata": {
    "slideshow": {
     "slide_type": "subslide"
    }
   },
   "source": [
    "# Example: Lowercase strings"
   ]
  },
  {
   "cell_type": "code",
   "execution_count": 2,
   "id": "26b7ff6c",
   "metadata": {
    "slideshow": {
     "slide_type": "-"
    }
   },
   "outputs": [
    {
     "data": {
      "text/html": [
       "<div>\n",
       "<style scoped>\n",
       "    .dataframe tbody tr th:only-of-type {\n",
       "        vertical-align: middle;\n",
       "    }\n",
       "\n",
       "    .dataframe tbody tr th {\n",
       "        vertical-align: top;\n",
       "    }\n",
       "\n",
       "    .dataframe thead th {\n",
       "        text-align: right;\n",
       "    }\n",
       "</style>\n",
       "<table border=\"1\" class=\"dataframe\">\n",
       "  <thead>\n",
       "    <tr style=\"text-align: right;\">\n",
       "      <th></th>\n",
       "      <th>name</th>\n",
       "      <th>sport</th>\n",
       "      <th>wins</th>\n",
       "      <th>date_of_birth</th>\n",
       "    </tr>\n",
       "  </thead>\n",
       "  <tbody>\n",
       "    <tr>\n",
       "      <th>0</th>\n",
       "      <td>George</td>\n",
       "      <td>Tennis</td>\n",
       "      <td>20</td>\n",
       "      <td>1989-02-01</td>\n",
       "    </tr>\n",
       "    <tr>\n",
       "      <th>1</th>\n",
       "      <td>Veronica</td>\n",
       "      <td>None</td>\n",
       "      <td>76</td>\n",
       "      <td>1999-10-11</td>\n",
       "    </tr>\n",
       "    <tr>\n",
       "      <th>2</th>\n",
       "      <td>Marc</td>\n",
       "      <td>Golf</td>\n",
       "      <td>12</td>\n",
       "      <td>2011-07-26</td>\n",
       "    </tr>\n",
       "    <tr>\n",
       "      <th>3</th>\n",
       "      <td>Sally</td>\n",
       "      <td>Golf</td>\n",
       "      <td>33</td>\n",
       "      <td>2004-04-17</td>\n",
       "    </tr>\n",
       "  </tbody>\n",
       "</table>\n",
       "</div>"
      ],
      "text/plain": [
       "       name   sport  wins date_of_birth\n",
       "0    George  Tennis    20    1989-02-01\n",
       "1  Veronica    None    76    1999-10-11\n",
       "2      Marc    Golf    12    2011-07-26\n",
       "3     Sally    Golf    33    2004-04-17"
      ]
     },
     "execution_count": 2,
     "metadata": {},
     "output_type": "execute_result"
    }
   ],
   "source": [
    "A_athletes"
   ]
  },
  {
   "cell_type": "code",
   "execution_count": 3,
   "id": "54ad1978",
   "metadata": {
    "slideshow": {
     "slide_type": "-"
    }
   },
   "outputs": [
    {
     "data": {
      "text/html": [
       "<div>\n",
       "<style scoped>\n",
       "    .dataframe tbody tr th:only-of-type {\n",
       "        vertical-align: middle;\n",
       "    }\n",
       "\n",
       "    .dataframe tbody tr th {\n",
       "        vertical-align: top;\n",
       "    }\n",
       "\n",
       "    .dataframe thead th {\n",
       "        text-align: right;\n",
       "    }\n",
       "</style>\n",
       "<table border=\"1\" class=\"dataframe\">\n",
       "  <thead>\n",
       "    <tr style=\"text-align: right;\">\n",
       "      <th></th>\n",
       "      <th>name</th>\n",
       "      <th>sport</th>\n",
       "      <th>wins</th>\n",
       "      <th>date_of_birth</th>\n",
       "    </tr>\n",
       "  </thead>\n",
       "  <tbody>\n",
       "    <tr>\n",
       "      <th>0</th>\n",
       "      <td>george</td>\n",
       "      <td>tennis</td>\n",
       "      <td>20</td>\n",
       "      <td>1989-02-01</td>\n",
       "    </tr>\n",
       "    <tr>\n",
       "      <th>1</th>\n",
       "      <td>veronica</td>\n",
       "      <td>None</td>\n",
       "      <td>76</td>\n",
       "      <td>1999-10-11</td>\n",
       "    </tr>\n",
       "    <tr>\n",
       "      <th>2</th>\n",
       "      <td>marc</td>\n",
       "      <td>golf</td>\n",
       "      <td>12</td>\n",
       "      <td>2011-07-26</td>\n",
       "    </tr>\n",
       "    <tr>\n",
       "      <th>3</th>\n",
       "      <td>sally</td>\n",
       "      <td>golf</td>\n",
       "      <td>33</td>\n",
       "      <td>2004-04-17</td>\n",
       "    </tr>\n",
       "  </tbody>\n",
       "</table>\n",
       "</div>"
      ],
      "text/plain": [
       "       name   sport  wins date_of_birth\n",
       "0    george  tennis    20    1989-02-01\n",
       "1  veronica    None    76    1999-10-11\n",
       "2      marc    golf    12    2011-07-26\n",
       "3     sally    golf    33    2004-04-17"
      ]
     },
     "execution_count": 3,
     "metadata": {},
     "output_type": "execute_result"
    }
   ],
   "source": [
    "A_athletes[\"name\"] = A_athletes[\"name\"].str.lower()\n",
    "A_athletes[\"sport\"] = A_athletes[\"sport\"].str.lower()\n",
    "A_athletes"
   ]
  },
  {
   "cell_type": "markdown",
   "id": "3aa7b430",
   "metadata": {
    "slideshow": {
     "slide_type": "fragment"
    }
   },
   "source": [
    "## Functional"
   ]
  },
  {
   "cell_type": "markdown",
   "id": "368782a7",
   "metadata": {
    "slideshow": {
     "slide_type": "subslide"
    }
   },
   "source": [
    "# Example: Extract month"
   ]
  },
  {
   "cell_type": "code",
   "execution_count": 4,
   "id": "62d3851b",
   "metadata": {
    "slideshow": {
     "slide_type": "-"
    }
   },
   "outputs": [
    {
     "data": {
      "text/html": [
       "<div>\n",
       "<style scoped>\n",
       "    .dataframe tbody tr th:only-of-type {\n",
       "        vertical-align: middle;\n",
       "    }\n",
       "\n",
       "    .dataframe tbody tr th {\n",
       "        vertical-align: top;\n",
       "    }\n",
       "\n",
       "    .dataframe thead th {\n",
       "        text-align: right;\n",
       "    }\n",
       "</style>\n",
       "<table border=\"1\" class=\"dataframe\">\n",
       "  <thead>\n",
       "    <tr style=\"text-align: right;\">\n",
       "      <th></th>\n",
       "      <th>name</th>\n",
       "      <th>sport</th>\n",
       "      <th>wins</th>\n",
       "      <th>date_of_birth</th>\n",
       "    </tr>\n",
       "  </thead>\n",
       "  <tbody>\n",
       "    <tr>\n",
       "      <th>0</th>\n",
       "      <td>george</td>\n",
       "      <td>tennis</td>\n",
       "      <td>20</td>\n",
       "      <td>1989-02-01</td>\n",
       "    </tr>\n",
       "    <tr>\n",
       "      <th>1</th>\n",
       "      <td>veronica</td>\n",
       "      <td>None</td>\n",
       "      <td>76</td>\n",
       "      <td>1999-10-11</td>\n",
       "    </tr>\n",
       "    <tr>\n",
       "      <th>2</th>\n",
       "      <td>marc</td>\n",
       "      <td>golf</td>\n",
       "      <td>12</td>\n",
       "      <td>2011-07-26</td>\n",
       "    </tr>\n",
       "    <tr>\n",
       "      <th>3</th>\n",
       "      <td>sally</td>\n",
       "      <td>golf</td>\n",
       "      <td>33</td>\n",
       "      <td>2004-04-17</td>\n",
       "    </tr>\n",
       "  </tbody>\n",
       "</table>\n",
       "</div>"
      ],
      "text/plain": [
       "       name   sport  wins date_of_birth\n",
       "0    george  tennis    20    1989-02-01\n",
       "1  veronica    None    76    1999-10-11\n",
       "2      marc    golf    12    2011-07-26\n",
       "3     sally    golf    33    2004-04-17"
      ]
     },
     "execution_count": 4,
     "metadata": {},
     "output_type": "execute_result"
    }
   ],
   "source": [
    "A_athletes"
   ]
  },
  {
   "cell_type": "code",
   "execution_count": 5,
   "id": "1ea3b808",
   "metadata": {
    "slideshow": {
     "slide_type": "-"
    }
   },
   "outputs": [
    {
     "data": {
      "text/html": [
       "<div>\n",
       "<style scoped>\n",
       "    .dataframe tbody tr th:only-of-type {\n",
       "        vertical-align: middle;\n",
       "    }\n",
       "\n",
       "    .dataframe tbody tr th {\n",
       "        vertical-align: top;\n",
       "    }\n",
       "\n",
       "    .dataframe thead th {\n",
       "        text-align: right;\n",
       "    }\n",
       "</style>\n",
       "<table border=\"1\" class=\"dataframe\">\n",
       "  <thead>\n",
       "    <tr style=\"text-align: right;\">\n",
       "      <th></th>\n",
       "      <th>name</th>\n",
       "      <th>sport</th>\n",
       "      <th>wins</th>\n",
       "      <th>date_of_birth</th>\n",
       "      <th>month</th>\n",
       "    </tr>\n",
       "  </thead>\n",
       "  <tbody>\n",
       "    <tr>\n",
       "      <th>0</th>\n",
       "      <td>george</td>\n",
       "      <td>tennis</td>\n",
       "      <td>20</td>\n",
       "      <td>1989-02-01</td>\n",
       "      <td>2</td>\n",
       "    </tr>\n",
       "    <tr>\n",
       "      <th>1</th>\n",
       "      <td>veronica</td>\n",
       "      <td>None</td>\n",
       "      <td>76</td>\n",
       "      <td>1999-10-11</td>\n",
       "      <td>10</td>\n",
       "    </tr>\n",
       "    <tr>\n",
       "      <th>2</th>\n",
       "      <td>marc</td>\n",
       "      <td>golf</td>\n",
       "      <td>12</td>\n",
       "      <td>2011-07-26</td>\n",
       "      <td>7</td>\n",
       "    </tr>\n",
       "    <tr>\n",
       "      <th>3</th>\n",
       "      <td>sally</td>\n",
       "      <td>golf</td>\n",
       "      <td>33</td>\n",
       "      <td>2004-04-17</td>\n",
       "      <td>4</td>\n",
       "    </tr>\n",
       "  </tbody>\n",
       "</table>\n",
       "</div>"
      ],
      "text/plain": [
       "       name   sport  wins date_of_birth  month\n",
       "0    george  tennis    20    1989-02-01      2\n",
       "1  veronica    None    76    1999-10-11     10\n",
       "2      marc    golf    12    2011-07-26      7\n",
       "3     sally    golf    33    2004-04-17      4"
      ]
     },
     "execution_count": 5,
     "metadata": {},
     "output_type": "execute_result"
    }
   ],
   "source": [
    "A_athletes[\"date_of_birth\"] = pd.to_datetime(A_athletes[\"date_of_birth\"])\n",
    "A_athletes[\"month\"] = A_athletes[\"date_of_birth\"].dt.month\n",
    "A_athletes"
   ]
  },
  {
   "cell_type": "markdown",
   "id": "9630c916",
   "metadata": {
    "slideshow": {
     "slide_type": "fragment"
    }
   },
   "source": [
    "## Functional"
   ]
  },
  {
   "cell_type": "markdown",
   "id": "67bdf433",
   "metadata": {
    "slideshow": {
     "slide_type": "subslide"
    }
   },
   "source": [
    "## Example:  Imputation on empty value\n"
   ]
  },
  {
   "cell_type": "code",
   "execution_count": 6,
   "id": "1a9d99f2",
   "metadata": {
    "slideshow": {
     "slide_type": "-"
    }
   },
   "outputs": [
    {
     "data": {
      "text/html": [
       "<div>\n",
       "<style scoped>\n",
       "    .dataframe tbody tr th:only-of-type {\n",
       "        vertical-align: middle;\n",
       "    }\n",
       "\n",
       "    .dataframe tbody tr th {\n",
       "        vertical-align: top;\n",
       "    }\n",
       "\n",
       "    .dataframe thead th {\n",
       "        text-align: right;\n",
       "    }\n",
       "</style>\n",
       "<table border=\"1\" class=\"dataframe\">\n",
       "  <thead>\n",
       "    <tr style=\"text-align: right;\">\n",
       "      <th></th>\n",
       "      <th>name</th>\n",
       "      <th>sport</th>\n",
       "      <th>wins</th>\n",
       "      <th>date_of_birth</th>\n",
       "      <th>month</th>\n",
       "    </tr>\n",
       "  </thead>\n",
       "  <tbody>\n",
       "    <tr>\n",
       "      <th>0</th>\n",
       "      <td>george</td>\n",
       "      <td>tennis</td>\n",
       "      <td>20</td>\n",
       "      <td>1989-02-01</td>\n",
       "      <td>2</td>\n",
       "    </tr>\n",
       "    <tr>\n",
       "      <th>1</th>\n",
       "      <td>veronica</td>\n",
       "      <td>None</td>\n",
       "      <td>76</td>\n",
       "      <td>1999-10-11</td>\n",
       "      <td>10</td>\n",
       "    </tr>\n",
       "    <tr>\n",
       "      <th>2</th>\n",
       "      <td>marc</td>\n",
       "      <td>golf</td>\n",
       "      <td>12</td>\n",
       "      <td>2011-07-26</td>\n",
       "      <td>7</td>\n",
       "    </tr>\n",
       "    <tr>\n",
       "      <th>3</th>\n",
       "      <td>sally</td>\n",
       "      <td>golf</td>\n",
       "      <td>33</td>\n",
       "      <td>2004-04-17</td>\n",
       "      <td>4</td>\n",
       "    </tr>\n",
       "  </tbody>\n",
       "</table>\n",
       "</div>"
      ],
      "text/plain": [
       "       name   sport  wins date_of_birth  month\n",
       "0    george  tennis    20    1989-02-01      2\n",
       "1  veronica    None    76    1999-10-11     10\n",
       "2      marc    golf    12    2011-07-26      7\n",
       "3     sally    golf    33    2004-04-17      4"
      ]
     },
     "execution_count": 6,
     "metadata": {},
     "output_type": "execute_result"
    }
   ],
   "source": [
    "A_athletes"
   ]
  },
  {
   "cell_type": "code",
   "execution_count": 7,
   "id": "b411d713",
   "metadata": {
    "slideshow": {
     "slide_type": "-"
    }
   },
   "outputs": [
    {
     "data": {
      "text/html": [
       "<div>\n",
       "<style scoped>\n",
       "    .dataframe tbody tr th:only-of-type {\n",
       "        vertical-align: middle;\n",
       "    }\n",
       "\n",
       "    .dataframe tbody tr th {\n",
       "        vertical-align: top;\n",
       "    }\n",
       "\n",
       "    .dataframe thead th {\n",
       "        text-align: right;\n",
       "    }\n",
       "</style>\n",
       "<table border=\"1\" class=\"dataframe\">\n",
       "  <thead>\n",
       "    <tr style=\"text-align: right;\">\n",
       "      <th></th>\n",
       "      <th>name</th>\n",
       "      <th>sport</th>\n",
       "      <th>wins</th>\n",
       "      <th>date_of_birth</th>\n",
       "      <th>month</th>\n",
       "    </tr>\n",
       "  </thead>\n",
       "  <tbody>\n",
       "    <tr>\n",
       "      <th>0</th>\n",
       "      <td>george</td>\n",
       "      <td>tennis</td>\n",
       "      <td>20</td>\n",
       "      <td>1989-02-01</td>\n",
       "      <td>2</td>\n",
       "    </tr>\n",
       "    <tr>\n",
       "      <th>1</th>\n",
       "      <td>veronica</td>\n",
       "      <td>unknown</td>\n",
       "      <td>76</td>\n",
       "      <td>1999-10-11</td>\n",
       "      <td>10</td>\n",
       "    </tr>\n",
       "    <tr>\n",
       "      <th>2</th>\n",
       "      <td>marc</td>\n",
       "      <td>golf</td>\n",
       "      <td>12</td>\n",
       "      <td>2011-07-26</td>\n",
       "      <td>7</td>\n",
       "    </tr>\n",
       "    <tr>\n",
       "      <th>3</th>\n",
       "      <td>sally</td>\n",
       "      <td>golf</td>\n",
       "      <td>33</td>\n",
       "      <td>2004-04-17</td>\n",
       "      <td>4</td>\n",
       "    </tr>\n",
       "  </tbody>\n",
       "</table>\n",
       "</div>"
      ],
      "text/plain": [
       "       name    sport  wins date_of_birth  month\n",
       "0    george   tennis    20    1989-02-01      2\n",
       "1  veronica  unknown    76    1999-10-11     10\n",
       "2      marc     golf    12    2011-07-26      7\n",
       "3     sally     golf    33    2004-04-17      4"
      ]
     },
     "execution_count": 7,
     "metadata": {},
     "output_type": "execute_result"
    }
   ],
   "source": [
    "A_athletes.loc[A_athletes[\"sport\"].isnull(), \"sport\"] = \"unknown\"\n",
    "A_athletes"
   ]
  },
  {
   "cell_type": "markdown",
   "id": "282b4949",
   "metadata": {
    "slideshow": {
     "slide_type": "fragment"
    }
   },
   "source": [
    "## Functional"
   ]
  },
  {
   "cell_type": "markdown",
   "id": "e48df2c2",
   "metadata": {
    "slideshow": {
     "slide_type": "subslide"
    }
   },
   "source": [
    "## Example: Age from date of birth"
   ]
  },
  {
   "cell_type": "code",
   "execution_count": 10,
   "id": "0cfcdbc4",
   "metadata": {
    "scrolled": true,
    "slideshow": {
     "slide_type": "-"
    }
   },
   "outputs": [
    {
     "data": {
      "text/html": [
       "<div>\n",
       "<style scoped>\n",
       "    .dataframe tbody tr th:only-of-type {\n",
       "        vertical-align: middle;\n",
       "    }\n",
       "\n",
       "    .dataframe tbody tr th {\n",
       "        vertical-align: top;\n",
       "    }\n",
       "\n",
       "    .dataframe thead th {\n",
       "        text-align: right;\n",
       "    }\n",
       "</style>\n",
       "<table border=\"1\" class=\"dataframe\">\n",
       "  <thead>\n",
       "    <tr style=\"text-align: right;\">\n",
       "      <th></th>\n",
       "      <th>name</th>\n",
       "      <th>sport</th>\n",
       "      <th>wins</th>\n",
       "      <th>date_of_birth</th>\n",
       "      <th>month</th>\n",
       "      <th>month_norm</th>\n",
       "    </tr>\n",
       "  </thead>\n",
       "  <tbody>\n",
       "    <tr>\n",
       "      <th>0</th>\n",
       "      <td>george</td>\n",
       "      <td>tennis</td>\n",
       "      <td>20</td>\n",
       "      <td>1989-02-01</td>\n",
       "      <td>2</td>\n",
       "      <td>0.166667</td>\n",
       "    </tr>\n",
       "    <tr>\n",
       "      <th>1</th>\n",
       "      <td>veronica</td>\n",
       "      <td>unknown</td>\n",
       "      <td>76</td>\n",
       "      <td>1999-10-11</td>\n",
       "      <td>10</td>\n",
       "      <td>0.833333</td>\n",
       "    </tr>\n",
       "    <tr>\n",
       "      <th>2</th>\n",
       "      <td>marc</td>\n",
       "      <td>golf</td>\n",
       "      <td>12</td>\n",
       "      <td>2011-07-26</td>\n",
       "      <td>7</td>\n",
       "      <td>0.583333</td>\n",
       "    </tr>\n",
       "    <tr>\n",
       "      <th>3</th>\n",
       "      <td>sally</td>\n",
       "      <td>golf</td>\n",
       "      <td>33</td>\n",
       "      <td>2004-04-17</td>\n",
       "      <td>4</td>\n",
       "      <td>0.333333</td>\n",
       "    </tr>\n",
       "  </tbody>\n",
       "</table>\n",
       "</div>"
      ],
      "text/plain": [
       "       name    sport  wins date_of_birth  month  month_norm\n",
       "0    george   tennis    20    1989-02-01      2    0.166667\n",
       "1  veronica  unknown    76    1999-10-11     10    0.833333\n",
       "2      marc     golf    12    2011-07-26      7    0.583333\n",
       "3     sally     golf    33    2004-04-17      4    0.333333"
      ]
     },
     "execution_count": 10,
     "metadata": {},
     "output_type": "execute_result"
    }
   ],
   "source": [
    "A_athletes"
   ]
  },
  {
   "cell_type": "code",
   "execution_count": 11,
   "id": "8b1cfd91",
   "metadata": {
    "slideshow": {
     "slide_type": "-"
    }
   },
   "outputs": [
    {
     "data": {
      "text/html": [
       "<div>\n",
       "<style scoped>\n",
       "    .dataframe tbody tr th:only-of-type {\n",
       "        vertical-align: middle;\n",
       "    }\n",
       "\n",
       "    .dataframe tbody tr th {\n",
       "        vertical-align: top;\n",
       "    }\n",
       "\n",
       "    .dataframe thead th {\n",
       "        text-align: right;\n",
       "    }\n",
       "</style>\n",
       "<table border=\"1\" class=\"dataframe\">\n",
       "  <thead>\n",
       "    <tr style=\"text-align: right;\">\n",
       "      <th></th>\n",
       "      <th>name</th>\n",
       "      <th>sport</th>\n",
       "      <th>wins</th>\n",
       "      <th>date_of_birth</th>\n",
       "      <th>month</th>\n",
       "      <th>month_norm</th>\n",
       "      <th>age</th>\n",
       "    </tr>\n",
       "  </thead>\n",
       "  <tbody>\n",
       "    <tr>\n",
       "      <th>0</th>\n",
       "      <td>george</td>\n",
       "      <td>tennis</td>\n",
       "      <td>20</td>\n",
       "      <td>1989-02-01</td>\n",
       "      <td>2</td>\n",
       "      <td>0.166667</td>\n",
       "      <td>34</td>\n",
       "    </tr>\n",
       "    <tr>\n",
       "      <th>1</th>\n",
       "      <td>veronica</td>\n",
       "      <td>unknown</td>\n",
       "      <td>76</td>\n",
       "      <td>1999-10-11</td>\n",
       "      <td>10</td>\n",
       "      <td>0.833333</td>\n",
       "      <td>23</td>\n",
       "    </tr>\n",
       "    <tr>\n",
       "      <th>2</th>\n",
       "      <td>marc</td>\n",
       "      <td>golf</td>\n",
       "      <td>12</td>\n",
       "      <td>2011-07-26</td>\n",
       "      <td>7</td>\n",
       "      <td>0.583333</td>\n",
       "      <td>11</td>\n",
       "    </tr>\n",
       "    <tr>\n",
       "      <th>3</th>\n",
       "      <td>sally</td>\n",
       "      <td>golf</td>\n",
       "      <td>33</td>\n",
       "      <td>2004-04-17</td>\n",
       "      <td>4</td>\n",
       "      <td>0.333333</td>\n",
       "      <td>18</td>\n",
       "    </tr>\n",
       "  </tbody>\n",
       "</table>\n",
       "</div>"
      ],
      "text/plain": [
       "       name    sport  wins date_of_birth  month  month_norm  age\n",
       "0    george   tennis    20    1989-02-01      2    0.166667   34\n",
       "1  veronica  unknown    76    1999-10-11     10    0.833333   23\n",
       "2      marc     golf    12    2011-07-26      7    0.583333   11\n",
       "3     sally     golf    33    2004-04-17      4    0.333333   18"
      ]
     },
     "execution_count": 11,
     "metadata": {},
     "output_type": "execute_result"
    }
   ],
   "source": [
    "A_athletes[\"age\"] = A_athletes[\"date_of_birth\"].apply(calculate_age)\n",
    "A_athletes  "
   ]
  },
  {
   "cell_type": "markdown",
   "id": "c5f4ce4b",
   "metadata": {
    "slideshow": {
     "slide_type": "fragment"
    }
   },
   "source": [
    "## Non-functional - It needs information about today!"
   ]
  },
  {
   "cell_type": "markdown",
   "id": "8c200749",
   "metadata": {
    "slideshow": {
     "slide_type": "subslide"
    }
   },
   "source": [
    "## Example: Normalizing Age of Athletes B based on Athletes A"
   ]
  },
  {
   "cell_type": "code",
   "execution_count": 12,
   "id": "31f48a6d",
   "metadata": {
    "slideshow": {
     "slide_type": "-"
    }
   },
   "outputs": [
    {
     "data": {
      "text/html": [
       "<div>\n",
       "<style scoped>\n",
       "    .dataframe tbody tr th:only-of-type {\n",
       "        vertical-align: middle;\n",
       "    }\n",
       "\n",
       "    .dataframe tbody tr th {\n",
       "        vertical-align: top;\n",
       "    }\n",
       "\n",
       "    .dataframe thead th {\n",
       "        text-align: right;\n",
       "    }\n",
       "</style>\n",
       "<table border=\"1\" class=\"dataframe\">\n",
       "  <thead>\n",
       "    <tr style=\"text-align: right;\">\n",
       "      <th></th>\n",
       "      <th>name</th>\n",
       "      <th>sport</th>\n",
       "      <th>wins</th>\n",
       "      <th>date_of_birth</th>\n",
       "    </tr>\n",
       "  </thead>\n",
       "  <tbody>\n",
       "    <tr>\n",
       "      <th>0</th>\n",
       "      <td>Salma</td>\n",
       "      <td>Golf</td>\n",
       "      <td>2</td>\n",
       "      <td>1988-06-01</td>\n",
       "    </tr>\n",
       "    <tr>\n",
       "      <th>1</th>\n",
       "      <td>Viktor</td>\n",
       "      <td>Tennis</td>\n",
       "      <td>33</td>\n",
       "      <td>1989-10-11</td>\n",
       "    </tr>\n",
       "    <tr>\n",
       "      <th>2</th>\n",
       "      <td>Raul</td>\n",
       "      <td>None</td>\n",
       "      <td>25</td>\n",
       "      <td>2010-07-26</td>\n",
       "    </tr>\n",
       "    <tr>\n",
       "      <th>3</th>\n",
       "      <td>Nadia</td>\n",
       "      <td>Skate</td>\n",
       "      <td>71</td>\n",
       "      <td>2001-04-17</td>\n",
       "    </tr>\n",
       "  </tbody>\n",
       "</table>\n",
       "</div>"
      ],
      "text/plain": [
       "     name   sport  wins date_of_birth\n",
       "0   Salma    Golf     2    1988-06-01\n",
       "1  Viktor  Tennis    33    1989-10-11\n",
       "2    Raul    None    25    2010-07-26\n",
       "3   Nadia   Skate    71    2001-04-17"
      ]
     },
     "execution_count": 12,
     "metadata": {},
     "output_type": "execute_result"
    }
   ],
   "source": [
    "max_age = A_athletes[\"age\"].max()\n",
    "B_athletes"
   ]
  },
  {
   "cell_type": "code",
   "execution_count": 13,
   "id": "7c21f68e",
   "metadata": {
    "slideshow": {
     "slide_type": "-"
    }
   },
   "outputs": [
    {
     "data": {
      "text/html": [
       "<div>\n",
       "<style scoped>\n",
       "    .dataframe tbody tr th:only-of-type {\n",
       "        vertical-align: middle;\n",
       "    }\n",
       "\n",
       "    .dataframe tbody tr th {\n",
       "        vertical-align: top;\n",
       "    }\n",
       "\n",
       "    .dataframe thead th {\n",
       "        text-align: right;\n",
       "    }\n",
       "</style>\n",
       "<table border=\"1\" class=\"dataframe\">\n",
       "  <thead>\n",
       "    <tr style=\"text-align: right;\">\n",
       "      <th></th>\n",
       "      <th>name</th>\n",
       "      <th>sport</th>\n",
       "      <th>wins</th>\n",
       "      <th>date_of_birth</th>\n",
       "      <th>age</th>\n",
       "      <th>age_norm</th>\n",
       "    </tr>\n",
       "  </thead>\n",
       "  <tbody>\n",
       "    <tr>\n",
       "      <th>0</th>\n",
       "      <td>Salma</td>\n",
       "      <td>Golf</td>\n",
       "      <td>2</td>\n",
       "      <td>1988-06-01</td>\n",
       "      <td>34</td>\n",
       "      <td>1.000000</td>\n",
       "    </tr>\n",
       "    <tr>\n",
       "      <th>1</th>\n",
       "      <td>Viktor</td>\n",
       "      <td>Tennis</td>\n",
       "      <td>33</td>\n",
       "      <td>1989-10-11</td>\n",
       "      <td>33</td>\n",
       "      <td>0.970588</td>\n",
       "    </tr>\n",
       "    <tr>\n",
       "      <th>2</th>\n",
       "      <td>Raul</td>\n",
       "      <td>None</td>\n",
       "      <td>25</td>\n",
       "      <td>2010-07-26</td>\n",
       "      <td>12</td>\n",
       "      <td>0.352941</td>\n",
       "    </tr>\n",
       "    <tr>\n",
       "      <th>3</th>\n",
       "      <td>Nadia</td>\n",
       "      <td>Skate</td>\n",
       "      <td>71</td>\n",
       "      <td>2001-04-17</td>\n",
       "      <td>21</td>\n",
       "      <td>0.617647</td>\n",
       "    </tr>\n",
       "  </tbody>\n",
       "</table>\n",
       "</div>"
      ],
      "text/plain": [
       "     name   sport  wins date_of_birth  age  age_norm\n",
       "0   Salma    Golf     2    1988-06-01   34  1.000000\n",
       "1  Viktor  Tennis    33    1989-10-11   33  0.970588\n",
       "2    Raul    None    25    2010-07-26   12  0.352941\n",
       "3   Nadia   Skate    71    2001-04-17   21  0.617647"
      ]
     },
     "execution_count": 13,
     "metadata": {},
     "output_type": "execute_result"
    }
   ],
   "source": [
    "B_athletes[\"date_of_birth\"] = pd.to_datetime(B_athletes[\"date_of_birth\"])  # functional\n",
    "B_athletes[\"age\"] = B_athletes[\"date_of_birth\"].apply(calculate_age)  # non-functional\n",
    "B_athletes[\"age_norm\"] = B_athletes[\"age\"] / max_age  # non-functional                    \n",
    "B_athletes"
   ]
  },
  {
   "cell_type": "markdown",
   "id": "769b3c24",
   "metadata": {
    "slideshow": {
     "slide_type": "fragment"
    }
   },
   "source": [
    "## Non-functional: It needs the maximum age of athletes A"
   ]
  },
  {
   "cell_type": "markdown",
   "id": "4657c0c8",
   "metadata": {
    "slideshow": {
     "slide_type": "subslide"
    }
   },
   "source": [
    "## Example:  Encoding Sport of Athletes B based on Athletes A"
   ]
  },
  {
   "cell_type": "code",
   "execution_count": 14,
   "id": "4eb5db67",
   "metadata": {
    "slideshow": {
     "slide_type": "-"
    }
   },
   "outputs": [
    {
     "data": {
      "text/plain": [
       "{'golf': 1, 'tennis': 2, 'unknown': 3}"
      ]
     },
     "execution_count": 14,
     "metadata": {},
     "output_type": "execute_result"
    }
   ],
   "source": [
    "sports_idx = dict(zip(sorted(A_athletes[\"sport\"]), range(len(A_athletes[\"sport\"]))))\n",
    "sports_idx"
   ]
  },
  {
   "cell_type": "code",
   "execution_count": 15,
   "id": "6a2d4170",
   "metadata": {
    "slideshow": {
     "slide_type": "skip"
    }
   },
   "outputs": [
    {
     "data": {
      "text/html": [
       "<div>\n",
       "<style scoped>\n",
       "    .dataframe tbody tr th:only-of-type {\n",
       "        vertical-align: middle;\n",
       "    }\n",
       "\n",
       "    .dataframe tbody tr th {\n",
       "        vertical-align: top;\n",
       "    }\n",
       "\n",
       "    .dataframe thead th {\n",
       "        text-align: right;\n",
       "    }\n",
       "</style>\n",
       "<table border=\"1\" class=\"dataframe\">\n",
       "  <thead>\n",
       "    <tr style=\"text-align: right;\">\n",
       "      <th></th>\n",
       "      <th>name</th>\n",
       "      <th>sport</th>\n",
       "      <th>wins</th>\n",
       "      <th>date_of_birth</th>\n",
       "      <th>month</th>\n",
       "      <th>month_norm</th>\n",
       "      <th>age</th>\n",
       "      <th>sport_idx</th>\n",
       "    </tr>\n",
       "  </thead>\n",
       "  <tbody>\n",
       "    <tr>\n",
       "      <th>0</th>\n",
       "      <td>george</td>\n",
       "      <td>tennis</td>\n",
       "      <td>20</td>\n",
       "      <td>1989-02-01</td>\n",
       "      <td>2</td>\n",
       "      <td>0.166667</td>\n",
       "      <td>34</td>\n",
       "      <td>2</td>\n",
       "    </tr>\n",
       "    <tr>\n",
       "      <th>1</th>\n",
       "      <td>veronica</td>\n",
       "      <td>unknown</td>\n",
       "      <td>76</td>\n",
       "      <td>1999-10-11</td>\n",
       "      <td>10</td>\n",
       "      <td>0.833333</td>\n",
       "      <td>23</td>\n",
       "      <td>3</td>\n",
       "    </tr>\n",
       "    <tr>\n",
       "      <th>2</th>\n",
       "      <td>marc</td>\n",
       "      <td>golf</td>\n",
       "      <td>12</td>\n",
       "      <td>2011-07-26</td>\n",
       "      <td>7</td>\n",
       "      <td>0.583333</td>\n",
       "      <td>11</td>\n",
       "      <td>1</td>\n",
       "    </tr>\n",
       "    <tr>\n",
       "      <th>3</th>\n",
       "      <td>sally</td>\n",
       "      <td>golf</td>\n",
       "      <td>33</td>\n",
       "      <td>2004-04-17</td>\n",
       "      <td>4</td>\n",
       "      <td>0.333333</td>\n",
       "      <td>18</td>\n",
       "      <td>1</td>\n",
       "    </tr>\n",
       "  </tbody>\n",
       "</table>\n",
       "</div>"
      ],
      "text/plain": [
       "       name    sport  wins date_of_birth  month  month_norm  age  sport_idx\n",
       "0    george   tennis    20    1989-02-01      2    0.166667   34          2\n",
       "1  veronica  unknown    76    1999-10-11     10    0.833333   23          3\n",
       "2      marc     golf    12    2011-07-26      7    0.583333   11          1\n",
       "3     sally     golf    33    2004-04-17      4    0.333333   18          1"
      ]
     },
     "execution_count": 15,
     "metadata": {},
     "output_type": "execute_result"
    }
   ],
   "source": [
    "A_athletes[\"sport_idx\"] = A_athletes[\"sport\"].map(sports_idx)\n",
    "A_athletes"
   ]
  },
  {
   "cell_type": "code",
   "execution_count": 16,
   "id": "ef435ccf",
   "metadata": {
    "slideshow": {
     "slide_type": "-"
    }
   },
   "outputs": [
    {
     "data": {
      "text/html": [
       "<div>\n",
       "<style scoped>\n",
       "    .dataframe tbody tr th:only-of-type {\n",
       "        vertical-align: middle;\n",
       "    }\n",
       "\n",
       "    .dataframe tbody tr th {\n",
       "        vertical-align: top;\n",
       "    }\n",
       "\n",
       "    .dataframe thead th {\n",
       "        text-align: right;\n",
       "    }\n",
       "</style>\n",
       "<table border=\"1\" class=\"dataframe\">\n",
       "  <thead>\n",
       "    <tr style=\"text-align: right;\">\n",
       "      <th></th>\n",
       "      <th>name</th>\n",
       "      <th>sport</th>\n",
       "      <th>wins</th>\n",
       "      <th>date_of_birth</th>\n",
       "      <th>age</th>\n",
       "      <th>age_norm</th>\n",
       "      <th>sport_idx</th>\n",
       "    </tr>\n",
       "  </thead>\n",
       "  <tbody>\n",
       "    <tr>\n",
       "      <th>0</th>\n",
       "      <td>Salma</td>\n",
       "      <td>golf</td>\n",
       "      <td>2</td>\n",
       "      <td>1988-06-01</td>\n",
       "      <td>34</td>\n",
       "      <td>1.000000</td>\n",
       "      <td>1.0</td>\n",
       "    </tr>\n",
       "    <tr>\n",
       "      <th>1</th>\n",
       "      <td>Viktor</td>\n",
       "      <td>tennis</td>\n",
       "      <td>33</td>\n",
       "      <td>1989-10-11</td>\n",
       "      <td>33</td>\n",
       "      <td>0.970588</td>\n",
       "      <td>2.0</td>\n",
       "    </tr>\n",
       "    <tr>\n",
       "      <th>2</th>\n",
       "      <td>Raul</td>\n",
       "      <td>unknown</td>\n",
       "      <td>25</td>\n",
       "      <td>2010-07-26</td>\n",
       "      <td>12</td>\n",
       "      <td>0.352941</td>\n",
       "      <td>3.0</td>\n",
       "    </tr>\n",
       "    <tr>\n",
       "      <th>3</th>\n",
       "      <td>Nadia</td>\n",
       "      <td>skate</td>\n",
       "      <td>71</td>\n",
       "      <td>2001-04-17</td>\n",
       "      <td>21</td>\n",
       "      <td>0.617647</td>\n",
       "      <td>NaN</td>\n",
       "    </tr>\n",
       "  </tbody>\n",
       "</table>\n",
       "</div>"
      ],
      "text/plain": [
       "     name    sport  wins date_of_birth  age  age_norm  sport_idx\n",
       "0   Salma     golf     2    1988-06-01   34  1.000000        1.0\n",
       "1  Viktor   tennis    33    1989-10-11   33  0.970588        2.0\n",
       "2    Raul  unknown    25    2010-07-26   12  0.352941        3.0\n",
       "3   Nadia    skate    71    2001-04-17   21  0.617647        NaN"
      ]
     },
     "execution_count": 16,
     "metadata": {},
     "output_type": "execute_result"
    }
   ],
   "source": [
    "B_athletes[\"sport\"] = B_athletes[\"sport\"].str.lower()\n",
    "B_athletes.loc[B_athletes[\"sport\"].isnull(), \"sport\"] = \"unknown\"\n",
    "B_athletes[\"sport_idx\"] = B_athletes[\"sport\"].map(sports_idx)\n",
    "B_athletes"
   ]
  },
  {
   "cell_type": "code",
   "execution_count": 17,
   "id": "f6a74564",
   "metadata": {
    "slideshow": {
     "slide_type": "-"
    }
   },
   "outputs": [
    {
     "data": {
      "text/html": [
       "<div>\n",
       "<style scoped>\n",
       "    .dataframe tbody tr th:only-of-type {\n",
       "        vertical-align: middle;\n",
       "    }\n",
       "\n",
       "    .dataframe tbody tr th {\n",
       "        vertical-align: top;\n",
       "    }\n",
       "\n",
       "    .dataframe thead th {\n",
       "        text-align: right;\n",
       "    }\n",
       "</style>\n",
       "<table border=\"1\" class=\"dataframe\">\n",
       "  <thead>\n",
       "    <tr style=\"text-align: right;\">\n",
       "      <th></th>\n",
       "      <th>name</th>\n",
       "      <th>sport</th>\n",
       "      <th>wins</th>\n",
       "      <th>date_of_birth</th>\n",
       "      <th>age</th>\n",
       "      <th>age_norm</th>\n",
       "      <th>sport_idx</th>\n",
       "    </tr>\n",
       "  </thead>\n",
       "  <tbody>\n",
       "    <tr>\n",
       "      <th>0</th>\n",
       "      <td>Salma</td>\n",
       "      <td>golf</td>\n",
       "      <td>2</td>\n",
       "      <td>1988-06-01</td>\n",
       "      <td>34</td>\n",
       "      <td>1.000000</td>\n",
       "      <td>1</td>\n",
       "    </tr>\n",
       "    <tr>\n",
       "      <th>1</th>\n",
       "      <td>Viktor</td>\n",
       "      <td>tennis</td>\n",
       "      <td>33</td>\n",
       "      <td>1989-10-11</td>\n",
       "      <td>33</td>\n",
       "      <td>0.970588</td>\n",
       "      <td>2</td>\n",
       "    </tr>\n",
       "    <tr>\n",
       "      <th>2</th>\n",
       "      <td>Raul</td>\n",
       "      <td>unknown</td>\n",
       "      <td>25</td>\n",
       "      <td>2010-07-26</td>\n",
       "      <td>12</td>\n",
       "      <td>0.352941</td>\n",
       "      <td>3</td>\n",
       "    </tr>\n",
       "    <tr>\n",
       "      <th>3</th>\n",
       "      <td>Nadia</td>\n",
       "      <td>skate</td>\n",
       "      <td>71</td>\n",
       "      <td>2001-04-17</td>\n",
       "      <td>21</td>\n",
       "      <td>0.617647</td>\n",
       "      <td>3</td>\n",
       "    </tr>\n",
       "  </tbody>\n",
       "</table>\n",
       "</div>"
      ],
      "text/plain": [
       "     name    sport  wins date_of_birth  age  age_norm  sport_idx\n",
       "0   Salma     golf     2    1988-06-01   34  1.000000          1\n",
       "1  Viktor   tennis    33    1989-10-11   33  0.970588          2\n",
       "2    Raul  unknown    25    2010-07-26   12  0.352941          3\n",
       "3   Nadia    skate    71    2001-04-17   21  0.617647          3"
      ]
     },
     "execution_count": 17,
     "metadata": {},
     "output_type": "execute_result"
    }
   ],
   "source": [
    "B_athletes[\"sport_idx\"] = B_athletes[\"sport\"].map(lambda x: sports_idx.get(x, sports_idx[\"unknown\"]))\n",
    "B_athletes"
   ]
  },
  {
   "cell_type": "markdown",
   "id": "84ed9ba3",
   "metadata": {
    "slideshow": {
     "slide_type": "subslide"
    }
   },
   "source": [
    "![Transformations](transformations.png)"
   ]
  },
  {
   "cell_type": "markdown",
   "id": "9af282c3",
   "metadata": {
    "slideshow": {
     "slide_type": "slide"
    }
   },
   "source": [
    "#  2. Keep state across time and space"
   ]
  },
  {
   "cell_type": "markdown",
   "id": "723e6572",
   "metadata": {
    "slideshow": {
     "slide_type": "subslide"
    }
   },
   "source": [
    "![time_and_space](time_and_space.png)"
   ]
  },
  {
   "cell_type": "markdown",
   "id": "39d5b0eb",
   "metadata": {
    "slideshow": {
     "slide_type": "subslide"
    }
   },
   "source": [
    "## Example:  Encoding Sport of Athletes B based on Athletes A"
   ]
  },
  {
   "cell_type": "code",
   "execution_count": 18,
   "id": "ec00d3ee",
   "metadata": {
    "slideshow": {
     "slide_type": "skip"
    }
   },
   "outputs": [],
   "source": [
    "B_athletes = pd.DataFrame({\n",
    "    \"name\": [\"Salma\", \"Viktor\", \"Raul\", \"Nadia\"],\n",
    "    \"sport\": [\"Golf\", \"Tennis\", None, \"Skate\"],\n",
    "    \"wins\": [2, 33, 25, 71],\n",
    "    \"date_of_birth\": [\"1988-06-01\", \"1989-10-11\", \"2010-07-26\", \"2001-04-17\"]\n",
    "})"
   ]
  },
  {
   "cell_type": "code",
   "execution_count": 19,
   "id": "24fc2cc2",
   "metadata": {
    "slideshow": {
     "slide_type": "-"
    }
   },
   "outputs": [
    {
     "data": {
      "text/plain": [
       "{'golf': 1, 'tennis': 2, 'unknown': 3}"
      ]
     },
     "execution_count": 19,
     "metadata": {},
     "output_type": "execute_result"
    }
   ],
   "source": [
    "sports_idx = dict(zip(sorted(A_athletes[\"sport\"]), range(len(A_athletes[\"sport\"]))))\n",
    "with open(\"categories.json\", \"w\") as fp:\n",
    "    json.dump(sports_idx, fp)\n",
    "sports_idx"
   ]
  },
  {
   "cell_type": "markdown",
   "id": "51723f73",
   "metadata": {
    "slideshow": {
     "slide_type": "subslide"
    }
   },
   "source": [
    "## Example:  Encoding Sport of Athletes B based on Athletes A"
   ]
  },
  {
   "cell_type": "code",
   "execution_count": 20,
   "id": "956a6210",
   "metadata": {},
   "outputs": [
    {
     "data": {
      "text/html": [
       "<div>\n",
       "<style scoped>\n",
       "    .dataframe tbody tr th:only-of-type {\n",
       "        vertical-align: middle;\n",
       "    }\n",
       "\n",
       "    .dataframe tbody tr th {\n",
       "        vertical-align: top;\n",
       "    }\n",
       "\n",
       "    .dataframe thead th {\n",
       "        text-align: right;\n",
       "    }\n",
       "</style>\n",
       "<table border=\"1\" class=\"dataframe\">\n",
       "  <thead>\n",
       "    <tr style=\"text-align: right;\">\n",
       "      <th></th>\n",
       "      <th>name</th>\n",
       "      <th>sport</th>\n",
       "      <th>wins</th>\n",
       "      <th>date_of_birth</th>\n",
       "    </tr>\n",
       "  </thead>\n",
       "  <tbody>\n",
       "    <tr>\n",
       "      <th>0</th>\n",
       "      <td>Salma</td>\n",
       "      <td>Golf</td>\n",
       "      <td>2</td>\n",
       "      <td>1988-06-01</td>\n",
       "    </tr>\n",
       "    <tr>\n",
       "      <th>1</th>\n",
       "      <td>Viktor</td>\n",
       "      <td>Tennis</td>\n",
       "      <td>33</td>\n",
       "      <td>1989-10-11</td>\n",
       "    </tr>\n",
       "    <tr>\n",
       "      <th>2</th>\n",
       "      <td>Raul</td>\n",
       "      <td>None</td>\n",
       "      <td>25</td>\n",
       "      <td>2010-07-26</td>\n",
       "    </tr>\n",
       "    <tr>\n",
       "      <th>3</th>\n",
       "      <td>Nadia</td>\n",
       "      <td>Skate</td>\n",
       "      <td>71</td>\n",
       "      <td>2001-04-17</td>\n",
       "    </tr>\n",
       "  </tbody>\n",
       "</table>\n",
       "</div>"
      ],
      "text/plain": [
       "     name   sport  wins date_of_birth\n",
       "0   Salma    Golf     2    1988-06-01\n",
       "1  Viktor  Tennis    33    1989-10-11\n",
       "2    Raul    None    25    2010-07-26\n",
       "3   Nadia   Skate    71    2001-04-17"
      ]
     },
     "execution_count": 20,
     "metadata": {},
     "output_type": "execute_result"
    }
   ],
   "source": [
    "B_athletes"
   ]
  },
  {
   "cell_type": "code",
   "execution_count": 21,
   "id": "8b196617",
   "metadata": {
    "slideshow": {
     "slide_type": "-"
    }
   },
   "outputs": [
    {
     "data": {
      "text/plain": [
       "{'golf': 1, 'tennis': 2, 'unknown': 3}"
      ]
     },
     "execution_count": 21,
     "metadata": {},
     "output_type": "execute_result"
    }
   ],
   "source": [
    "with open(\"categories.json\", \"r\") as fp:\n",
    "    sports_idx = json.load(fp)\n",
    "sports_idx"
   ]
  },
  {
   "cell_type": "code",
   "execution_count": 22,
   "id": "b5662d48",
   "metadata": {
    "slideshow": {
     "slide_type": "-"
    }
   },
   "outputs": [
    {
     "data": {
      "text/html": [
       "<div>\n",
       "<style scoped>\n",
       "    .dataframe tbody tr th:only-of-type {\n",
       "        vertical-align: middle;\n",
       "    }\n",
       "\n",
       "    .dataframe tbody tr th {\n",
       "        vertical-align: top;\n",
       "    }\n",
       "\n",
       "    .dataframe thead th {\n",
       "        text-align: right;\n",
       "    }\n",
       "</style>\n",
       "<table border=\"1\" class=\"dataframe\">\n",
       "  <thead>\n",
       "    <tr style=\"text-align: right;\">\n",
       "      <th></th>\n",
       "      <th>name</th>\n",
       "      <th>sport</th>\n",
       "      <th>wins</th>\n",
       "      <th>date_of_birth</th>\n",
       "      <th>sport_idx</th>\n",
       "    </tr>\n",
       "  </thead>\n",
       "  <tbody>\n",
       "    <tr>\n",
       "      <th>0</th>\n",
       "      <td>Salma</td>\n",
       "      <td>Golf</td>\n",
       "      <td>2</td>\n",
       "      <td>1988-06-01</td>\n",
       "      <td>NaN</td>\n",
       "    </tr>\n",
       "    <tr>\n",
       "      <th>1</th>\n",
       "      <td>Viktor</td>\n",
       "      <td>Tennis</td>\n",
       "      <td>33</td>\n",
       "      <td>1989-10-11</td>\n",
       "      <td>NaN</td>\n",
       "    </tr>\n",
       "    <tr>\n",
       "      <th>2</th>\n",
       "      <td>Raul</td>\n",
       "      <td>None</td>\n",
       "      <td>25</td>\n",
       "      <td>2010-07-26</td>\n",
       "      <td>NaN</td>\n",
       "    </tr>\n",
       "    <tr>\n",
       "      <th>3</th>\n",
       "      <td>Nadia</td>\n",
       "      <td>Skate</td>\n",
       "      <td>71</td>\n",
       "      <td>2001-04-17</td>\n",
       "      <td>NaN</td>\n",
       "    </tr>\n",
       "  </tbody>\n",
       "</table>\n",
       "</div>"
      ],
      "text/plain": [
       "     name   sport  wins date_of_birth  sport_idx\n",
       "0   Salma    Golf     2    1988-06-01        NaN\n",
       "1  Viktor  Tennis    33    1989-10-11        NaN\n",
       "2    Raul    None    25    2010-07-26        NaN\n",
       "3   Nadia   Skate    71    2001-04-17        NaN"
      ]
     },
     "execution_count": 22,
     "metadata": {},
     "output_type": "execute_result"
    }
   ],
   "source": [
    "B_athletes[\"sport_idx\"] = B_athletes[\"sport\"].map(sports_idx)\n",
    "B_athletes"
   ]
  },
  {
   "cell_type": "markdown",
   "id": "0d61521c",
   "metadata": {
    "slideshow": {
     "slide_type": "subslide"
    }
   },
   "source": [
    "## Example:  Encoding Sport of Athletes B based on Athletes A"
   ]
  },
  {
   "cell_type": "code",
   "execution_count": 23,
   "id": "5f84a643",
   "metadata": {
    "slideshow": {
     "slide_type": "-"
    }
   },
   "outputs": [
    {
     "data": {
      "text/html": [
       "<div>\n",
       "<style scoped>\n",
       "    .dataframe tbody tr th:only-of-type {\n",
       "        vertical-align: middle;\n",
       "    }\n",
       "\n",
       "    .dataframe tbody tr th {\n",
       "        vertical-align: top;\n",
       "    }\n",
       "\n",
       "    .dataframe thead th {\n",
       "        text-align: right;\n",
       "    }\n",
       "</style>\n",
       "<table border=\"1\" class=\"dataframe\">\n",
       "  <thead>\n",
       "    <tr style=\"text-align: right;\">\n",
       "      <th></th>\n",
       "      <th>name</th>\n",
       "      <th>sport</th>\n",
       "      <th>wins</th>\n",
       "      <th>date_of_birth</th>\n",
       "      <th>sport_idx</th>\n",
       "    </tr>\n",
       "  </thead>\n",
       "  <tbody>\n",
       "    <tr>\n",
       "      <th>0</th>\n",
       "      <td>Salma</td>\n",
       "      <td>golf</td>\n",
       "      <td>2</td>\n",
       "      <td>1988-06-01</td>\n",
       "      <td>1.0</td>\n",
       "    </tr>\n",
       "    <tr>\n",
       "      <th>1</th>\n",
       "      <td>Viktor</td>\n",
       "      <td>tennis</td>\n",
       "      <td>33</td>\n",
       "      <td>1989-10-11</td>\n",
       "      <td>2.0</td>\n",
       "    </tr>\n",
       "    <tr>\n",
       "      <th>2</th>\n",
       "      <td>Raul</td>\n",
       "      <td>None</td>\n",
       "      <td>25</td>\n",
       "      <td>2010-07-26</td>\n",
       "      <td>NaN</td>\n",
       "    </tr>\n",
       "    <tr>\n",
       "      <th>3</th>\n",
       "      <td>Nadia</td>\n",
       "      <td>skate</td>\n",
       "      <td>71</td>\n",
       "      <td>2001-04-17</td>\n",
       "      <td>NaN</td>\n",
       "    </tr>\n",
       "  </tbody>\n",
       "</table>\n",
       "</div>"
      ],
      "text/plain": [
       "     name   sport  wins date_of_birth  sport_idx\n",
       "0   Salma    golf     2    1988-06-01        1.0\n",
       "1  Viktor  tennis    33    1989-10-11        2.0\n",
       "2    Raul    None    25    2010-07-26        NaN\n",
       "3   Nadia   skate    71    2001-04-17        NaN"
      ]
     },
     "execution_count": 23,
     "metadata": {},
     "output_type": "execute_result"
    }
   ],
   "source": [
    "B_athletes[\"sport\"] = B_athletes[\"sport\"].str.lower()\n",
    "with open(\"categories.json\", \"r\") as fp:\n",
    "    sports_idx = json.load(fp)\n",
    "B_athletes[\"sport_idx\"] = B_athletes[\"sport\"].map(sports_idx)\n",
    "B_athletes"
   ]
  },
  {
   "cell_type": "code",
   "execution_count": 24,
   "id": "6e8ffadd",
   "metadata": {
    "slideshow": {
     "slide_type": "-"
    }
   },
   "outputs": [],
   "source": [
    "class SportsCategories:\n",
    "    \n",
    "    def __init__(self, categories: dict, na_category: str):\n",
    "        self.categories = categories\n",
    "        self.na_category = na_category\n",
    "        \n",
    "sport_cat = SportsCategories(sports_idx, na_category=\"unknown\")\n",
    "with open(\"sport_categories.pkl\", \"wb\") as fp:\n",
    "    pickle.dump(sport_cat, fp)"
   ]
  },
  {
   "cell_type": "markdown",
   "id": "485734d1",
   "metadata": {
    "slideshow": {
     "slide_type": "subslide"
    }
   },
   "source": [
    "## Example:  Encoding Sport of Athletes B based on Athletes A"
   ]
  },
  {
   "cell_type": "code",
   "execution_count": 25,
   "id": "ba254b70",
   "metadata": {},
   "outputs": [],
   "source": [
    "B_athletes[\"sport\"] = B_athletes[\"sport\"].str.lower()\n",
    "with open(\"sport_categories.pkl\", \"rb\") as fp:\n",
    "    sport_cat = pickle.load(fp)"
   ]
  },
  {
   "cell_type": "code",
   "execution_count": 26,
   "id": "8bd2f44d",
   "metadata": {
    "slideshow": {
     "slide_type": "-"
    }
   },
   "outputs": [
    {
     "data": {
      "text/html": [
       "<div>\n",
       "<style scoped>\n",
       "    .dataframe tbody tr th:only-of-type {\n",
       "        vertical-align: middle;\n",
       "    }\n",
       "\n",
       "    .dataframe tbody tr th {\n",
       "        vertical-align: top;\n",
       "    }\n",
       "\n",
       "    .dataframe thead th {\n",
       "        text-align: right;\n",
       "    }\n",
       "</style>\n",
       "<table border=\"1\" class=\"dataframe\">\n",
       "  <thead>\n",
       "    <tr style=\"text-align: right;\">\n",
       "      <th></th>\n",
       "      <th>name</th>\n",
       "      <th>sport</th>\n",
       "      <th>wins</th>\n",
       "      <th>date_of_birth</th>\n",
       "      <th>sport_idx</th>\n",
       "    </tr>\n",
       "  </thead>\n",
       "  <tbody>\n",
       "    <tr>\n",
       "      <th>0</th>\n",
       "      <td>Salma</td>\n",
       "      <td>golf</td>\n",
       "      <td>2</td>\n",
       "      <td>1988-06-01</td>\n",
       "      <td>1.0</td>\n",
       "    </tr>\n",
       "    <tr>\n",
       "      <th>1</th>\n",
       "      <td>Viktor</td>\n",
       "      <td>tennis</td>\n",
       "      <td>33</td>\n",
       "      <td>1989-10-11</td>\n",
       "      <td>2.0</td>\n",
       "    </tr>\n",
       "    <tr>\n",
       "      <th>2</th>\n",
       "      <td>Raul</td>\n",
       "      <td>None</td>\n",
       "      <td>25</td>\n",
       "      <td>2010-07-26</td>\n",
       "      <td>3.0</td>\n",
       "    </tr>\n",
       "    <tr>\n",
       "      <th>3</th>\n",
       "      <td>Nadia</td>\n",
       "      <td>skate</td>\n",
       "      <td>71</td>\n",
       "      <td>2001-04-17</td>\n",
       "      <td>3.0</td>\n",
       "    </tr>\n",
       "  </tbody>\n",
       "</table>\n",
       "</div>"
      ],
      "text/plain": [
       "     name   sport  wins date_of_birth  sport_idx\n",
       "0   Salma    golf     2    1988-06-01        1.0\n",
       "1  Viktor  tennis    33    1989-10-11        2.0\n",
       "2    Raul    None    25    2010-07-26        3.0\n",
       "3   Nadia   skate    71    2001-04-17        3.0"
      ]
     },
     "execution_count": 26,
     "metadata": {},
     "output_type": "execute_result"
    }
   ],
   "source": [
    "B_athletes[\"sport_idx\"] = B_athletes[\"sport\"].map(sport_cat.categories)\n",
    "B_athletes.loc[B_athletes[\"sport_idx\"].isnull(), \"sport_idx\"] = sport_cat.categories[sport_cat.na_category]\n",
    "B_athletes"
   ]
  },
  {
   "cell_type": "markdown",
   "id": "a14c4292",
   "metadata": {
    "slideshow": {
     "slide_type": "subslide"
    }
   },
   "source": [
    "## Example:  Encoding Sport of Athletes B based on Athletes A"
   ]
  },
  {
   "cell_type": "code",
   "execution_count": 36,
   "id": "60d702d1",
   "metadata": {
    "slideshow": {
     "slide_type": "-"
    }
   },
   "outputs": [
    {
     "data": {
      "text/html": [
       "<div>\n",
       "<style scoped>\n",
       "    .dataframe tbody tr th:only-of-type {\n",
       "        vertical-align: middle;\n",
       "    }\n",
       "\n",
       "    .dataframe tbody tr th {\n",
       "        vertical-align: top;\n",
       "    }\n",
       "\n",
       "    .dataframe thead th {\n",
       "        text-align: right;\n",
       "    }\n",
       "</style>\n",
       "<table border=\"1\" class=\"dataframe\">\n",
       "  <thead>\n",
       "    <tr style=\"text-align: right;\">\n",
       "      <th></th>\n",
       "      <th>name</th>\n",
       "      <th>sport</th>\n",
       "      <th>wins</th>\n",
       "      <th>date_of_birth</th>\n",
       "    </tr>\n",
       "  </thead>\n",
       "  <tbody>\n",
       "    <tr>\n",
       "      <th>0</th>\n",
       "      <td>Salma</td>\n",
       "      <td>Golf</td>\n",
       "      <td>2</td>\n",
       "      <td>1988-06-01</td>\n",
       "    </tr>\n",
       "    <tr>\n",
       "      <th>1</th>\n",
       "      <td>Viktor</td>\n",
       "      <td>Tennis</td>\n",
       "      <td>33</td>\n",
       "      <td>1989-10-11</td>\n",
       "    </tr>\n",
       "    <tr>\n",
       "      <th>2</th>\n",
       "      <td>Raul</td>\n",
       "      <td>None</td>\n",
       "      <td>25</td>\n",
       "      <td>2010-07-26</td>\n",
       "    </tr>\n",
       "    <tr>\n",
       "      <th>3</th>\n",
       "      <td>Nadia</td>\n",
       "      <td>Skate</td>\n",
       "      <td>71</td>\n",
       "      <td>2001-04-17</td>\n",
       "    </tr>\n",
       "  </tbody>\n",
       "</table>\n",
       "</div>"
      ],
      "text/plain": [
       "     name   sport  wins date_of_birth\n",
       "0   Salma    Golf     2    1988-06-01\n",
       "1  Viktor  Tennis    33    1989-10-11\n",
       "2    Raul    None    25    2010-07-26\n",
       "3   Nadia   Skate    71    2001-04-17"
      ]
     },
     "execution_count": 36,
     "metadata": {},
     "output_type": "execute_result"
    }
   ],
   "source": [
    "%reset -f\n",
    "import pandas as pd\n",
    "\n",
    "B_athletes = pd.DataFrame({\"name\": [\"Salma\", \"Viktor\", \"Raul\", \"Nadia\"], \"sport\": [\"Golf\", \"Tennis\", None, \"Skate\"], \"wins\": [2, 33, 25, 71], \"date_of_birth\": [\"1988-06-01\", \"1989-10-11\", \"2010-07-26\", \"2001-04-17\"]})\n",
    "B_athletes"
   ]
  },
  {
   "cell_type": "code",
   "execution_count": 37,
   "id": "e6c778d4",
   "metadata": {
    "slideshow": {
     "slide_type": "-"
    }
   },
   "outputs": [
    {
     "ename": "AttributeError",
     "evalue": "Can't get attribute 'SportsCategories' on <module '__main__'>",
     "output_type": "error",
     "traceback": [
      "\u001b[0;31m---------------------------------------------------------------------------\u001b[0m",
      "\u001b[0;31mAttributeError\u001b[0m                            Traceback (most recent call last)",
      "Input \u001b[0;32mIn [37]\u001b[0m, in \u001b[0;36m<cell line: 4>\u001b[0;34m()\u001b[0m\n\u001b[1;32m      3\u001b[0m B_athletes[\u001b[38;5;124m\"\u001b[39m\u001b[38;5;124msport\u001b[39m\u001b[38;5;124m\"\u001b[39m] \u001b[38;5;241m=\u001b[39m B_athletes[\u001b[38;5;124m\"\u001b[39m\u001b[38;5;124msport\u001b[39m\u001b[38;5;124m\"\u001b[39m]\u001b[38;5;241m.\u001b[39mstr\u001b[38;5;241m.\u001b[39mlower()\n\u001b[1;32m      4\u001b[0m \u001b[38;5;28;01mwith\u001b[39;00m \u001b[38;5;28mopen\u001b[39m(\u001b[38;5;124m\"\u001b[39m\u001b[38;5;124msport_categories.pkl\u001b[39m\u001b[38;5;124m\"\u001b[39m, \u001b[38;5;124m\"\u001b[39m\u001b[38;5;124mrb\u001b[39m\u001b[38;5;124m\"\u001b[39m) \u001b[38;5;28;01mas\u001b[39;00m fp:\n\u001b[0;32m----> 5\u001b[0m     sport_cat \u001b[38;5;241m=\u001b[39m \u001b[43mpickle\u001b[49m\u001b[38;5;241;43m.\u001b[39;49m\u001b[43mload\u001b[49m\u001b[43m(\u001b[49m\u001b[43mfp\u001b[49m\u001b[43m)\u001b[49m\n",
      "\u001b[0;31mAttributeError\u001b[0m: Can't get attribute 'SportsCategories' on <module '__main__'>"
     ]
    }
   ],
   "source": [
    "import pickle\n",
    "\n",
    "B_athletes[\"sport\"] = B_athletes[\"sport\"].str.lower()\n",
    "with open(\"sport_categories.pkl\", \"rb\") as fp:\n",
    "    sport_cat = pickle.load(fp)"
   ]
  },
  {
   "cell_type": "markdown",
   "id": "a438447b",
   "metadata": {
    "slideshow": {
     "slide_type": "slide"
    }
   },
   "source": [
    "# [SciKit-Learn Pipelines](02-scikit_learn_pipelines.ipynb)"
   ]
  }
 ],
 "metadata": {
  "celltoolbar": "Slideshow",
  "kernelspec": {
   "display_name": "Python 3 (ipykernel)",
   "language": "python",
   "name": "python3"
  },
  "language_info": {
   "codemirror_mode": {
    "name": "ipython",
    "version": 3
   },
   "file_extension": ".py",
   "mimetype": "text/x-python",
   "name": "python",
   "nbconvert_exporter": "python",
   "pygments_lexer": "ipython3",
   "version": "3.9.11"
  }
 },
 "nbformat": 4,
 "nbformat_minor": 5
}
